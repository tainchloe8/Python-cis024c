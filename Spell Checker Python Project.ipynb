{
 "cells": [
  {
   "cell_type": "markdown",
   "metadata": {},
   "source": [
    "# Similarity/Spell-Checker"
   ]
  },
  {
   "cell_type": "markdown",
   "metadata": {},
   "source": [
    "Create a Python module using the similarity function. Write a Python program to invoke the similarity function on any word entered by the user."
   ]
  },
  {
   "cell_type": "code",
   "execution_count": 6,
   "metadata": {},
   "outputs": [],
   "source": [
    "def similarity(aliceWord):\n",
    "    \n",
    "    if len(aliceWord) == 0:\n",
    "        print \"Provide a valid word\"\n",
    "        return \"Entry fail\"\n",
    "    \n",
    "    lowerWordLen = len(aliceWord) - 1\n",
    "    upperWordLen = len(aliceWord) + 1\n",
    "    \n",
    "    spellingWords = []\n",
    "    \n",
    "    for entry in wordBank:\n",
    "        \n",
    "        if len(entry) >= lowerWordLen and len(entry) <= upperWordLen:\n",
    "            spellingWords.append(entry)\n",
    "            \n",
    "    firstTry = True\n",
    "    bestMatchCount = None\n",
    "    bestMatchWord = None\n",
    "    \n",
    "    print \"alice word:\",aliceWord\n",
    "    for entry in spellingWords:\n",
    "        matchCount = 0\n",
    "        for l1 in entry:\n",
    "            if l1 in aliceWord:\n",
    "                matchCount += 1\n",
    "                \n",
    "        if firstTry == True:\n",
    "            bestMatchCount = matchCount\n",
    "            bestMatchWord = entry\n",
    "            firstTry = False\n",
    "        else:\n",
    "            if matchCount > bestMatchCount:\n",
    "                bestMatchCount = matchCount\n",
    "                bestMatchWord = entry\n",
    "                \n",
    "    print \"Best Match Is:\", bestMatchWord"
   ]
  },
  {
   "cell_type": "code",
   "execution_count": 7,
   "metadata": {},
   "outputs": [],
   "source": [
    "aliceFile = open(\"AliceInWonderland.txt\")\n",
    "\n",
    "wordBank = []\n",
    "\n",
    "for line in aliceFile:\n",
    "    \n",
    "    line = line.strip().lower()\n",
    "    \n",
    "    words = line.split(\",\")\n",
    "    \n",
    "    for word in words:\n",
    "        if word.isalnum():\n",
    "            if word not in wordBank:\n",
    "                wordBank.append(word)"
   ]
  },
  {
   "cell_type": "code",
   "execution_count": 8,
   "metadata": {},
   "outputs": [
    {
     "name": "stdout",
     "output_type": "stream",
     "text": [
      "['bank', 'it', 'down', 'is', 'off', 'dinah', 'door', 'but', 'for', 'before', 'label', 'however', 'why', 'alice', 'growing', 'sight', 'hearthrug', 'you', 'moment', 'tears', 'hurry', 'ringlets', 'railway', 'sea', 'inquisitively', 'thing', 'pool', 'answer', 'know', 'tone', 'history', 'way', 'lory', 'age', 'away', 'liked', 'pocket', 'confusion', 'theirs', 'mouse', 'house', 'prosecute', 'nothing', 'cur', 'with', 'wasting', 'our', 'judge', 'said', 'cunning', 'whole', 'cause', 'and', 'condemn', 'to', 'bend', 'carefully', 'eagerly', 'quick', 'knocking', 'think', 'again', 'hand', 'silence', 'window', 'hungry', 'mushroom', 'hookah', 'myself', 'queer', 'arms', 'pray', 'round', 'hedges', 'pigeon', 'other', 'place', 'there', 'otherwise', 'saying', 'repeated', 'question', 'dreadful', 'remark', 'fire', 'growl', 'no', 'appear', 'cushion', 'was', 'eyes', 'time', 'now', 'twinkle', 'hoarse', 'remarked', 'them', 'voice', 'diamonds', 'procession']\n",
      "163\n"
     ]
    }
   ],
   "source": [
    "print wordBank[:100]\n",
    "print len(wordBank)"
   ]
  },
  {
   "cell_type": "code",
   "execution_count": 9,
   "metadata": {},
   "outputs": [
    {
     "name": "stdout",
     "output_type": "stream",
     "text": [
      "alice word: rabbi\n",
      "Best Match Is: rabbit\n"
     ]
    }
   ],
   "source": [
    "similarity(\"rabbi\")"
   ]
  },
  {
   "cell_type": "code",
   "execution_count": 14,
   "metadata": {},
   "outputs": [
    {
     "name": "stdout",
     "output_type": "stream",
     "text": [
      "Please enter a word in alice in wonderland: curio\n",
      "alice word: curio\n",
      "Best Match Is: court\n",
      "None\n"
     ]
    }
   ],
   "source": [
    "aliceWord = str(raw_input(\"Please enter a word in alice in wonderland: \"))\n",
    "print similarity(aliceWord)"
   ]
  }
 ],
 "metadata": {
  "kernelspec": {
   "display_name": "Python 2",
   "language": "python",
   "name": "python2"
  },
  "language_info": {
   "codemirror_mode": {
    "name": "ipython",
    "version": 2
   },
   "file_extension": ".py",
   "mimetype": "text/x-python",
   "name": "python",
   "nbconvert_exporter": "python",
   "pygments_lexer": "ipython2",
   "version": "2.7.13"
  }
 },
 "nbformat": 4,
 "nbformat_minor": 1
}
