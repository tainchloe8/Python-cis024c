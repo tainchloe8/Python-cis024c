{
 "cells": [
  {
   "cell_type": "code",
   "execution_count": 1,
   "metadata": {
    "collapsed": true
   },
   "outputs": [],
   "source": [
    "def addAll(inList):\n",
    "    return sum(inList)\n",
    "def diffAll(inList):\n",
    "    return reduce(lambda x,y: x-y,inList)\n",
    "def multiplyAll(inList):\n",
    "    return reduce(lambda x,y: x*y,inList)\n",
    "def greatestAll(inList):\n",
    "    return max(inList)"
   ]
  }
 ],
 "metadata": {
  "kernelspec": {
   "display_name": "Python 2",
   "language": "python",
   "name": "python2"
  },
  "language_info": {
   "codemirror_mode": {
    "name": "ipython",
    "version": 2
   },
   "file_extension": ".py",
   "mimetype": "text/x-python",
   "name": "python",
   "nbconvert_exporter": "python",
   "pygments_lexer": "ipython2",
   "version": "2.7.13"
  }
 },
 "nbformat": 4,
 "nbformat_minor": 2
}
